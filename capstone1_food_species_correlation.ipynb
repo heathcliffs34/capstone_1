{
 "cells": [
  {
   "cell_type": "code",
   "execution_count": 205,
   "metadata": {},
   "outputs": [],
   "source": [
    "import numpy as np\n",
    "import pandas as pd\n",
    "import scipy.stats as stats\n",
    "import matplotlib.pyplot as plt\n",
    "%matplotlib inline"
   ]
  },
  {
   "cell_type": "code",
   "execution_count": 206,
   "metadata": {},
   "outputs": [],
   "source": [
    "df = pd.read_csv('source.csv')"
   ]
  },
  {
   "cell_type": "code",
   "execution_count": 207,
   "metadata": {},
   "outputs": [],
   "source": [
    "df.set_index('species', inplace=True)"
   ]
  },
  {
   "cell_type": "code",
   "execution_count": 208,
   "metadata": {},
   "outputs": [
    {
     "data": {
      "text/html": [
       "<div>\n",
       "<style scoped>\n",
       "    .dataframe tbody tr th:only-of-type {\n",
       "        vertical-align: middle;\n",
       "    }\n",
       "\n",
       "    .dataframe tbody tr th {\n",
       "        vertical-align: top;\n",
       "    }\n",
       "\n",
       "    .dataframe thead th {\n",
       "        text-align: right;\n",
       "    }\n",
       "</style>\n",
       "<table border=\"1\" class=\"dataframe\">\n",
       "  <thead>\n",
       "    <tr style=\"text-align: right;\">\n",
       "      <th></th>\n",
       "      <th>Unnamed: 0</th>\n",
       "      <th>cannelloni</th>\n",
       "      <th>basil</th>\n",
       "      <th>pastry</th>\n",
       "      <th>filling</th>\n",
       "      <th>leafy</th>\n",
       "      <th>quesadillas</th>\n",
       "      <th>goulash</th>\n",
       "      <th>tomatilla</th>\n",
       "      <th>vegetables</th>\n",
       "      <th>...</th>\n",
       "      <th>crawfish</th>\n",
       "      <th>beet</th>\n",
       "      <th>tomatillo</th>\n",
       "      <th>cactus</th>\n",
       "      <th>meringue</th>\n",
       "      <th>ranch</th>\n",
       "      <th>octopus</th>\n",
       "      <th>lettuce</th>\n",
       "      <th>peas</th>\n",
       "      <th>mango</th>\n",
       "    </tr>\n",
       "    <tr>\n",
       "      <th>species</th>\n",
       "      <th></th>\n",
       "      <th></th>\n",
       "      <th></th>\n",
       "      <th></th>\n",
       "      <th></th>\n",
       "      <th></th>\n",
       "      <th></th>\n",
       "      <th></th>\n",
       "      <th></th>\n",
       "      <th></th>\n",
       "      <th></th>\n",
       "      <th></th>\n",
       "      <th></th>\n",
       "      <th></th>\n",
       "      <th></th>\n",
       "      <th></th>\n",
       "      <th></th>\n",
       "      <th></th>\n",
       "      <th></th>\n",
       "      <th></th>\n",
       "      <th></th>\n",
       "    </tr>\n",
       "  </thead>\n",
       "  <tbody>\n",
       "    <tr>\n",
       "      <td>faecalis</td>\n",
       "      <td>0</td>\n",
       "      <td>0</td>\n",
       "      <td>0</td>\n",
       "      <td>0</td>\n",
       "      <td>0</td>\n",
       "      <td>0</td>\n",
       "      <td>0</td>\n",
       "      <td>0</td>\n",
       "      <td>0</td>\n",
       "      <td>0</td>\n",
       "      <td>...</td>\n",
       "      <td>0</td>\n",
       "      <td>0</td>\n",
       "      <td>0</td>\n",
       "      <td>0</td>\n",
       "      <td>0</td>\n",
       "      <td>0</td>\n",
       "      <td>0</td>\n",
       "      <td>0</td>\n",
       "      <td>0</td>\n",
       "      <td>0</td>\n",
       "    </tr>\n",
       "    <tr>\n",
       "      <td>enterica</td>\n",
       "      <td>1</td>\n",
       "      <td>1</td>\n",
       "      <td>2</td>\n",
       "      <td>1</td>\n",
       "      <td>1</td>\n",
       "      <td>0</td>\n",
       "      <td>1</td>\n",
       "      <td>0</td>\n",
       "      <td>1</td>\n",
       "      <td>6</td>\n",
       "      <td>...</td>\n",
       "      <td>2</td>\n",
       "      <td>0</td>\n",
       "      <td>0</td>\n",
       "      <td>0</td>\n",
       "      <td>2</td>\n",
       "      <td>1</td>\n",
       "      <td>0</td>\n",
       "      <td>18</td>\n",
       "      <td>1</td>\n",
       "      <td>7</td>\n",
       "    </tr>\n",
       "    <tr>\n",
       "      <td>vibrio</td>\n",
       "      <td>2</td>\n",
       "      <td>0</td>\n",
       "      <td>0</td>\n",
       "      <td>0</td>\n",
       "      <td>0</td>\n",
       "      <td>0</td>\n",
       "      <td>0</td>\n",
       "      <td>0</td>\n",
       "      <td>0</td>\n",
       "      <td>0</td>\n",
       "      <td>...</td>\n",
       "      <td>1</td>\n",
       "      <td>0</td>\n",
       "      <td>0</td>\n",
       "      <td>0</td>\n",
       "      <td>0</td>\n",
       "      <td>0</td>\n",
       "      <td>1</td>\n",
       "      <td>0</td>\n",
       "      <td>0</td>\n",
       "      <td>0</td>\n",
       "    </tr>\n",
       "    <tr>\n",
       "      <td>giardia</td>\n",
       "      <td>3</td>\n",
       "      <td>0</td>\n",
       "      <td>0</td>\n",
       "      <td>0</td>\n",
       "      <td>0</td>\n",
       "      <td>0</td>\n",
       "      <td>0</td>\n",
       "      <td>0</td>\n",
       "      <td>0</td>\n",
       "      <td>1</td>\n",
       "      <td>...</td>\n",
       "      <td>0</td>\n",
       "      <td>0</td>\n",
       "      <td>0</td>\n",
       "      <td>0</td>\n",
       "      <td>0</td>\n",
       "      <td>0</td>\n",
       "      <td>0</td>\n",
       "      <td>1</td>\n",
       "      <td>0</td>\n",
       "      <td>0</td>\n",
       "    </tr>\n",
       "    <tr>\n",
       "      <td>shellfish</td>\n",
       "      <td>4</td>\n",
       "      <td>0</td>\n",
       "      <td>0</td>\n",
       "      <td>0</td>\n",
       "      <td>0</td>\n",
       "      <td>0</td>\n",
       "      <td>0</td>\n",
       "      <td>0</td>\n",
       "      <td>0</td>\n",
       "      <td>0</td>\n",
       "      <td>...</td>\n",
       "      <td>0</td>\n",
       "      <td>0</td>\n",
       "      <td>0</td>\n",
       "      <td>0</td>\n",
       "      <td>0</td>\n",
       "      <td>0</td>\n",
       "      <td>0</td>\n",
       "      <td>0</td>\n",
       "      <td>0</td>\n",
       "      <td>0</td>\n",
       "    </tr>\n",
       "  </tbody>\n",
       "</table>\n",
       "<p>5 rows × 860 columns</p>\n",
       "</div>"
      ],
      "text/plain": [
       "           Unnamed: 0  cannelloni  basil  pastry  filling  leafy  quesadillas  \\\n",
       "species                                                                         \n",
       "faecalis            0           0      0       0        0      0            0   \n",
       "enterica            1           1      2       1        1      0            1   \n",
       "vibrio              2           0      0       0        0      0            0   \n",
       "giardia             3           0      0       0        0      0            0   \n",
       "shellfish           4           0      0       0        0      0            0   \n",
       "\n",
       "           goulash  tomatilla  vegetables  ...  crawfish  beet  tomatillo  \\\n",
       "species                                    ...                              \n",
       "faecalis         0          0           0  ...         0     0          0   \n",
       "enterica         0          1           6  ...         2     0          0   \n",
       "vibrio           0          0           0  ...         1     0          0   \n",
       "giardia          0          0           1  ...         0     0          0   \n",
       "shellfish        0          0           0  ...         0     0          0   \n",
       "\n",
       "           cactus  meringue  ranch  octopus  lettuce  peas  mango  \n",
       "species                                                            \n",
       "faecalis        0         0      0        0        0     0      0  \n",
       "enterica        0         2      1        0       18     1      7  \n",
       "vibrio          0         0      0        1        0     0      0  \n",
       "giardia         0         0      0        0        1     0      0  \n",
       "shellfish       0         0      0        0        0     0      0  \n",
       "\n",
       "[5 rows x 860 columns]"
      ]
     },
     "execution_count": 208,
     "metadata": {},
     "output_type": "execute_result"
    }
   ],
   "source": [
    "df.head()"
   ]
  },
  {
   "cell_type": "code",
   "execution_count": 209,
   "metadata": {},
   "outputs": [
    {
     "data": {
      "text/plain": [
       "species\n",
       "virus             5514\n",
       "norovirus         5425\n",
       "salmonella        3521\n",
       "enterica          3437\n",
       "clostridium       2076\n",
       "perfringens       1959\n",
       "staphylococcus    1404\n",
       "aureus            1360\n",
       "bacillus          1315\n",
       "cereus            1283\n",
       "dtype: int64"
      ]
     },
     "execution_count": 209,
     "metadata": {},
     "output_type": "execute_result"
    }
   ],
   "source": [
    "df.sum(axis=1).sort_values(ascending=False).head(10)"
   ]
  },
  {
   "cell_type": "code",
   "execution_count": 210,
   "metadata": {},
   "outputs": [],
   "source": [
    "target_organisms = ['norovirus', 'salmonella', 'clostridium', 'staphylococcus', 'bacillus', 'escherichia', 'scombroid',\n",
    "                    'shiga', 'campylobacter', 'ciguatoxin', 'jejuni', 'vibrio', 'shigella', 'listeria',\n",
    "                    'botulinum', 'hepatitis', 'shellfish', 'cyclospora', 'cryptosporidium']"
   ]
  },
  {
   "cell_type": "code",
   "execution_count": 211,
   "metadata": {},
   "outputs": [
    {
     "data": {
      "text/plain": [
       "salad       829\n",
       "chicken     526\n",
       "sandwich    268\n",
       "egg         242\n",
       "fish        226\n",
       "beef        189\n",
       "tuna        188\n",
       "oyster      188\n",
       "lettuce     173\n",
       "ice         161\n",
       "dtype: int64"
      ]
     },
     "execution_count": 211,
     "metadata": {},
     "output_type": "execute_result"
    }
   ],
   "source": [
    "df.max().sort_values(ascending=False).head(10)"
   ]
  },
  {
   "cell_type": "code",
   "execution_count": 212,
   "metadata": {},
   "outputs": [],
   "source": [
    "target_foods = ['salad', 'chicken', 'sandwich', 'egg', 'fish', 'beef', 'tuna', 'oyster', 'lettuce', 'egg', 'ice',\n",
    "                'milk', 'rice', 'fruit', 'ahi', 'sub', 'cake', 'pork']"
   ]
  },
  {
   "cell_type": "code",
   "execution_count": 213,
   "metadata": {},
   "outputs": [],
   "source": [
    "df = df.loc[target_organisms, target_foods]"
   ]
  },
  {
   "cell_type": "code",
   "execution_count": 224,
   "metadata": {},
   "outputs": [
    {
     "data": {
      "text/html": [
       "<div>\n",
       "<style scoped>\n",
       "    .dataframe tbody tr th:only-of-type {\n",
       "        vertical-align: middle;\n",
       "    }\n",
       "\n",
       "    .dataframe tbody tr th {\n",
       "        vertical-align: top;\n",
       "    }\n",
       "\n",
       "    .dataframe thead th {\n",
       "        text-align: right;\n",
       "    }\n",
       "</style>\n",
       "<table border=\"1\" class=\"dataframe\">\n",
       "  <thead>\n",
       "    <tr style=\"text-align: right;\">\n",
       "      <th></th>\n",
       "      <th>salad</th>\n",
       "      <th>chicken</th>\n",
       "      <th>sandwich</th>\n",
       "      <th>egg</th>\n",
       "      <th>fish</th>\n",
       "      <th>beef</th>\n",
       "      <th>tuna</th>\n",
       "      <th>oyster</th>\n",
       "      <th>lettuce</th>\n",
       "      <th>egg</th>\n",
       "      <th>ice</th>\n",
       "      <th>milk</th>\n",
       "      <th>rice</th>\n",
       "      <th>fruit</th>\n",
       "      <th>ahi</th>\n",
       "      <th>sub</th>\n",
       "      <th>cake</th>\n",
       "      <th>pork</th>\n",
       "    </tr>\n",
       "    <tr>\n",
       "      <th>species</th>\n",
       "      <th></th>\n",
       "      <th></th>\n",
       "      <th></th>\n",
       "      <th></th>\n",
       "      <th></th>\n",
       "      <th></th>\n",
       "      <th></th>\n",
       "      <th></th>\n",
       "      <th></th>\n",
       "      <th></th>\n",
       "      <th></th>\n",
       "      <th></th>\n",
       "      <th></th>\n",
       "      <th></th>\n",
       "      <th></th>\n",
       "      <th></th>\n",
       "      <th></th>\n",
       "      <th></th>\n",
       "    </tr>\n",
       "  </thead>\n",
       "  <tbody>\n",
       "    <tr>\n",
       "      <td>norovirus</td>\n",
       "      <td>811</td>\n",
       "      <td>302</td>\n",
       "      <td>259</td>\n",
       "      <td>44</td>\n",
       "      <td>17</td>\n",
       "      <td>88</td>\n",
       "      <td>22</td>\n",
       "      <td>171</td>\n",
       "      <td>172</td>\n",
       "      <td>44</td>\n",
       "      <td>158</td>\n",
       "      <td>5</td>\n",
       "      <td>25</td>\n",
       "      <td>118</td>\n",
       "      <td>0</td>\n",
       "      <td>109</td>\n",
       "      <td>108</td>\n",
       "      <td>24</td>\n",
       "    </tr>\n",
       "    <tr>\n",
       "      <td>salmonella</td>\n",
       "      <td>122</td>\n",
       "      <td>526</td>\n",
       "      <td>50</td>\n",
       "      <td>242</td>\n",
       "      <td>21</td>\n",
       "      <td>100</td>\n",
       "      <td>11</td>\n",
       "      <td>10</td>\n",
       "      <td>19</td>\n",
       "      <td>242</td>\n",
       "      <td>76</td>\n",
       "      <td>17</td>\n",
       "      <td>27</td>\n",
       "      <td>13</td>\n",
       "      <td>3</td>\n",
       "      <td>4</td>\n",
       "      <td>37</td>\n",
       "      <td>107</td>\n",
       "    </tr>\n",
       "    <tr>\n",
       "      <td>clostridium</td>\n",
       "      <td>31</td>\n",
       "      <td>309</td>\n",
       "      <td>15</td>\n",
       "      <td>10</td>\n",
       "      <td>12</td>\n",
       "      <td>189</td>\n",
       "      <td>3</td>\n",
       "      <td>0</td>\n",
       "      <td>5</td>\n",
       "      <td>10</td>\n",
       "      <td>51</td>\n",
       "      <td>0</td>\n",
       "      <td>47</td>\n",
       "      <td>0</td>\n",
       "      <td>1</td>\n",
       "      <td>2</td>\n",
       "      <td>6</td>\n",
       "      <td>70</td>\n",
       "    </tr>\n",
       "    <tr>\n",
       "      <td>staphylococcus</td>\n",
       "      <td>45</td>\n",
       "      <td>190</td>\n",
       "      <td>51</td>\n",
       "      <td>13</td>\n",
       "      <td>11</td>\n",
       "      <td>51</td>\n",
       "      <td>4</td>\n",
       "      <td>4</td>\n",
       "      <td>0</td>\n",
       "      <td>13</td>\n",
       "      <td>39</td>\n",
       "      <td>4</td>\n",
       "      <td>30</td>\n",
       "      <td>0</td>\n",
       "      <td>0</td>\n",
       "      <td>4</td>\n",
       "      <td>9</td>\n",
       "      <td>58</td>\n",
       "    </tr>\n",
       "    <tr>\n",
       "      <td>bacillus</td>\n",
       "      <td>25</td>\n",
       "      <td>162</td>\n",
       "      <td>12</td>\n",
       "      <td>2</td>\n",
       "      <td>3</td>\n",
       "      <td>38</td>\n",
       "      <td>2</td>\n",
       "      <td>0</td>\n",
       "      <td>4</td>\n",
       "      <td>2</td>\n",
       "      <td>129</td>\n",
       "      <td>0</td>\n",
       "      <td>125</td>\n",
       "      <td>0</td>\n",
       "      <td>1</td>\n",
       "      <td>2</td>\n",
       "      <td>10</td>\n",
       "      <td>18</td>\n",
       "    </tr>\n",
       "  </tbody>\n",
       "</table>\n",
       "</div>"
      ],
      "text/plain": [
       "                salad  chicken  sandwich  egg  fish  beef  tuna  oyster  \\\n",
       "species                                                                   \n",
       "norovirus         811      302       259   44    17    88    22     171   \n",
       "salmonella        122      526        50  242    21   100    11      10   \n",
       "clostridium        31      309        15   10    12   189     3       0   \n",
       "staphylococcus     45      190        51   13    11    51     4       4   \n",
       "bacillus           25      162        12    2     3    38     2       0   \n",
       "\n",
       "                lettuce  egg  ice  milk  rice  fruit  ahi  sub  cake  pork  \n",
       "species                                                                     \n",
       "norovirus           172   44  158     5    25    118    0  109   108    24  \n",
       "salmonella           19  242   76    17    27     13    3    4    37   107  \n",
       "clostridium           5   10   51     0    47      0    1    2     6    70  \n",
       "staphylococcus        0   13   39     4    30      0    0    4     9    58  \n",
       "bacillus              4    2  129     0   125      0    1    2    10    18  "
      ]
     },
     "execution_count": 224,
     "metadata": {},
     "output_type": "execute_result"
    }
   ],
   "source": [
    "df.head(5)"
   ]
  },
  {
   "cell_type": "code",
   "execution_count": 215,
   "metadata": {},
   "outputs": [],
   "source": []
  },
  {
   "cell_type": "code",
   "execution_count": 219,
   "metadata": {},
   "outputs": [],
   "source": [
    "all_diseases = df.sum()"
   ]
  },
  {
   "cell_type": "code",
   "execution_count": 220,
   "metadata": {},
   "outputs": [],
   "source": [
    "all_foods = df.sum(axis=1)"
   ]
  },
  {
   "cell_type": "code",
   "execution_count": null,
   "metadata": {},
   "outputs": [],
   "source": [
    "# e.g. P(norovirus | salad)"
   ]
  },
  {
   "cell_type": "code",
   "execution_count": null,
   "metadata": {},
   "outputs": [],
   "source": [
    "df / all_diseases"
   ]
  },
  {
   "cell_type": "code",
   "execution_count": null,
   "metadata": {},
   "outputs": [],
   "source": [
    "df_disease_given_food = df / all_diseases"
   ]
  },
  {
   "cell_type": "code",
   "execution_count": null,
   "metadata": {},
   "outputs": [],
   "source": [
    "df_disease_given_food.max()"
   ]
  },
  {
   "cell_type": "code",
   "execution_count": null,
   "metadata": {},
   "outputs": [],
   "source": [
    "df_disease_given_food.max() == df_disease_given_food"
   ]
  },
  {
   "cell_type": "code",
   "execution_count": null,
   "metadata": {},
   "outputs": [],
   "source": [
    "df[df_disease_given_food.max() == df_disease_given_food].fillna(0)"
   ]
  },
  {
   "cell_type": "code",
   "execution_count": null,
   "metadata": {},
   "outputs": [],
   "source": [
    "df[df_disease_given_food.max() == df_disease_given_food].fillna(0).max()"
   ]
  },
  {
   "cell_type": "code",
   "execution_count": null,
   "metadata": {},
   "outputs": [],
   "source": [
    "# e.g. P(salad), AKA P(salad | outbreak)"
   ]
  },
  {
   "cell_type": "code",
   "execution_count": null,
   "metadata": {},
   "outputs": [],
   "source": [
    "df_food_given_outbreak = pd.DataFrame(columns = df.columns)"
   ]
  },
  {
   "cell_type": "code",
   "execution_count": null,
   "metadata": {},
   "outputs": [],
   "source": [
    "df_food_given_outbreak = all_diseases / all_diseases.sum()"
   ]
  },
  {
   "cell_type": "code",
   "execution_count": null,
   "metadata": {},
   "outputs": [],
   "source": [
    "df_food_given_outbreak.head(2)"
   ]
  },
  {
   "cell_type": "code",
   "execution_count": null,
   "metadata": {},
   "outputs": [],
   "source": []
  },
  {
   "cell_type": "code",
   "execution_count": null,
   "metadata": {},
   "outputs": [],
   "source": [
    "# Bayes calculation, eg: P(salad | norovirus) = P(norovirus | salad) * P(salad) /\n",
    "#                                                summation(P(disease | food) * P(food))"
   ]
  },
  {
   "cell_type": "code",
   "execution_count": null,
   "metadata": {},
   "outputs": [],
   "source": [
    "# Abandoned approach"
   ]
  },
  {
   "cell_type": "code",
   "execution_count": null,
   "metadata": {},
   "outputs": [],
   "source": []
  },
  {
   "cell_type": "code",
   "execution_count": null,
   "metadata": {},
   "outputs": [],
   "source": [
    "df.corr()"
   ]
  },
  {
   "cell_type": "code",
   "execution_count": null,
   "metadata": {},
   "outputs": [],
   "source": []
  }
 ],
 "metadata": {
  "kernelspec": {
   "display_name": "Python 3",
   "language": "python",
   "name": "python3"
  },
  "language_info": {
   "codemirror_mode": {
    "name": "ipython",
    "version": 3
   },
   "file_extension": ".py",
   "mimetype": "text/x-python",
   "name": "python",
   "nbconvert_exporter": "python",
   "pygments_lexer": "ipython3",
   "version": "3.7.4"
  }
 },
 "nbformat": 4,
 "nbformat_minor": 2
}
