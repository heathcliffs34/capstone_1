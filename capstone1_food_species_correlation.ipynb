{
 "cells": [
  {
   "cell_type": "code",
   "execution_count": 1,
   "metadata": {},
   "outputs": [],
   "source": [
    "import numpy as np\n",
    "import pandas as pd\n",
    "import scipy.stats as stats\n",
    "import matplotlib.pyplot as plt\n",
    "%matplotlib inline"
   ]
  },
  {
   "cell_type": "code",
   "execution_count": 2,
   "metadata": {},
   "outputs": [],
   "source": [
    "df = pd.read_csv('source.csv')"
   ]
  },
  {
   "cell_type": "code",
   "execution_count": 3,
   "metadata": {},
   "outputs": [],
   "source": [
    "df = df.rename(columns={'Unnamed: 0': 'species'})"
   ]
  },
  {
   "cell_type": "code",
   "execution_count": 4,
   "metadata": {},
   "outputs": [],
   "source": [
    "df.set_index('species', inplace=True)"
   ]
  },
  {
   "cell_type": "code",
   "execution_count": 13,
   "metadata": {},
   "outputs": [
    {
     "data": {
      "text/plain": [
       "species\n",
       "norovirus      2477\n",
       "salmonella     1627\n",
       "clostridium     761\n",
       "bacillus        535\n",
       "scombroid       530\n",
       "dtype: int64"
      ]
     },
     "execution_count": 13,
     "metadata": {},
     "output_type": "execute_result"
    }
   ],
   "source": [
    "df.sum(axis=1).sort_values(ascending=False).head()"
   ]
  },
  {
   "cell_type": "code",
   "execution_count": 6,
   "metadata": {},
   "outputs": [],
   "source": [
    "target_organisms = ['norovirus', 'salmonella', 'clostridium', 'staphylococcus', 'bacillus', 'coli', 'scombroid',\n",
    "                    'shiga', 'campylobacter', 'ciguatoxin', 'jejuni', 'vibrio', 'shigella', 'listeria',\n",
    "                    'botulinum', 'hepatitis', 'shellfish', 'cyclospora', 'cryptosporidium']"
   ]
  },
  {
   "cell_type": "code",
   "execution_count": 48,
   "metadata": {},
   "outputs": [
    {
     "data": {
      "text/plain": [
       "salad       811\n",
       "chicken     526\n",
       "sandwich    259\n",
       "egg         242\n",
       "egg         242\n",
       "dtype: int64"
      ]
     },
     "execution_count": 48,
     "metadata": {},
     "output_type": "execute_result"
    }
   ],
   "source": [
    "df.max().sort_values(ascending=False).head()"
   ]
  },
  {
   "cell_type": "code",
   "execution_count": 8,
   "metadata": {},
   "outputs": [],
   "source": [
    "target_foods = ['salad', 'chicken', 'sandwich', 'egg', 'fish', 'beef', 'tuna', 'oyster', 'lettuce', 'egg', 'ice',\n",
    "                'milk', 'rice', 'fruit', 'ahi', 'sub', 'cake', 'pork']"
   ]
  },
  {
   "cell_type": "code",
   "execution_count": 9,
   "metadata": {},
   "outputs": [],
   "source": [
    "df = df.loc[target_organisms, target_foods]"
   ]
  },
  {
   "cell_type": "code",
   "execution_count": 50,
   "metadata": {},
   "outputs": [
    {
     "data": {
      "text/html": [
       "<div>\n",
       "<style scoped>\n",
       "    .dataframe tbody tr th:only-of-type {\n",
       "        vertical-align: middle;\n",
       "    }\n",
       "\n",
       "    .dataframe tbody tr th {\n",
       "        vertical-align: top;\n",
       "    }\n",
       "\n",
       "    .dataframe thead th {\n",
       "        text-align: right;\n",
       "    }\n",
       "</style>\n",
       "<table border=\"1\" class=\"dataframe\">\n",
       "  <thead>\n",
       "    <tr style=\"text-align: right;\">\n",
       "      <th></th>\n",
       "      <th>salad</th>\n",
       "      <th>chicken</th>\n",
       "      <th>sandwich</th>\n",
       "      <th>egg</th>\n",
       "      <th>fish</th>\n",
       "      <th>beef</th>\n",
       "      <th>tuna</th>\n",
       "      <th>oyster</th>\n",
       "      <th>lettuce</th>\n",
       "      <th>egg</th>\n",
       "      <th>ice</th>\n",
       "      <th>milk</th>\n",
       "      <th>rice</th>\n",
       "      <th>fruit</th>\n",
       "      <th>ahi</th>\n",
       "      <th>sub</th>\n",
       "      <th>cake</th>\n",
       "      <th>pork</th>\n",
       "    </tr>\n",
       "    <tr>\n",
       "      <th>species</th>\n",
       "      <th></th>\n",
       "      <th></th>\n",
       "      <th></th>\n",
       "      <th></th>\n",
       "      <th></th>\n",
       "      <th></th>\n",
       "      <th></th>\n",
       "      <th></th>\n",
       "      <th></th>\n",
       "      <th></th>\n",
       "      <th></th>\n",
       "      <th></th>\n",
       "      <th></th>\n",
       "      <th></th>\n",
       "      <th></th>\n",
       "      <th></th>\n",
       "      <th></th>\n",
       "      <th></th>\n",
       "    </tr>\n",
       "  </thead>\n",
       "  <tbody>\n",
       "    <tr>\n",
       "      <td>norovirus</td>\n",
       "      <td>811</td>\n",
       "      <td>302</td>\n",
       "      <td>259</td>\n",
       "      <td>44</td>\n",
       "      <td>17</td>\n",
       "      <td>88</td>\n",
       "      <td>22</td>\n",
       "      <td>171</td>\n",
       "      <td>172</td>\n",
       "      <td>44</td>\n",
       "      <td>158</td>\n",
       "      <td>5</td>\n",
       "      <td>25</td>\n",
       "      <td>118</td>\n",
       "      <td>0</td>\n",
       "      <td>109</td>\n",
       "      <td>108</td>\n",
       "      <td>24</td>\n",
       "    </tr>\n",
       "    <tr>\n",
       "      <td>salmonella</td>\n",
       "      <td>122</td>\n",
       "      <td>526</td>\n",
       "      <td>50</td>\n",
       "      <td>242</td>\n",
       "      <td>21</td>\n",
       "      <td>100</td>\n",
       "      <td>11</td>\n",
       "      <td>10</td>\n",
       "      <td>19</td>\n",
       "      <td>242</td>\n",
       "      <td>76</td>\n",
       "      <td>17</td>\n",
       "      <td>27</td>\n",
       "      <td>13</td>\n",
       "      <td>3</td>\n",
       "      <td>4</td>\n",
       "      <td>37</td>\n",
       "      <td>107</td>\n",
       "    </tr>\n",
       "  </tbody>\n",
       "</table>\n",
       "</div>"
      ],
      "text/plain": [
       "            salad  chicken  sandwich  egg  fish  beef  tuna  oyster  lettuce  \\\n",
       "species                                                                        \n",
       "norovirus     811      302       259   44    17    88    22     171      172   \n",
       "salmonella    122      526        50  242    21   100    11      10       19   \n",
       "\n",
       "            egg  ice  milk  rice  fruit  ahi  sub  cake  pork  \n",
       "species                                                        \n",
       "norovirus    44  158     5    25    118    0  109   108    24  \n",
       "salmonella  242   76    17    27     13    3    4    37   107  "
      ]
     },
     "execution_count": 50,
     "metadata": {},
     "output_type": "execute_result"
    }
   ],
   "source": [
    "df.head(2)"
   ]
  },
  {
   "cell_type": "code",
   "execution_count": 52,
   "metadata": {},
   "outputs": [],
   "source": [
    "norovirus = df.iloc[0].sum()"
   ]
  },
  {
   "cell_type": "code",
   "execution_count": 53,
   "metadata": {},
   "outputs": [],
   "source": [
    "norovirus_salad = df.iloc[0,0]"
   ]
  },
  {
   "cell_type": "code",
   "execution_count": 60,
   "metadata": {},
   "outputs": [],
   "source": [
    "all_diseases = df.sum()"
   ]
  },
  {
   "cell_type": "code",
   "execution_count": 61,
   "metadata": {},
   "outputs": [],
   "source": [
    "all_foods = df.sum(axis=1)"
   ]
  },
  {
   "cell_type": "code",
   "execution_count": null,
   "metadata": {},
   "outputs": [],
   "source": []
  },
  {
   "cell_type": "code",
   "execution_count": 62,
   "metadata": {},
   "outputs": [],
   "source": [
    "df_structure = pd.DataFrame(columns=df.columns, index=df.index)"
   ]
  },
  {
   "cell_type": "code",
   "execution_count": 63,
   "metadata": {},
   "outputs": [],
   "source": [
    "df_structure.fillna(0, inplace=True)"
   ]
  },
  {
   "cell_type": "code",
   "execution_count": 64,
   "metadata": {},
   "outputs": [
    {
     "data": {
      "text/html": [
       "<div>\n",
       "<style scoped>\n",
       "    .dataframe tbody tr th:only-of-type {\n",
       "        vertical-align: middle;\n",
       "    }\n",
       "\n",
       "    .dataframe tbody tr th {\n",
       "        vertical-align: top;\n",
       "    }\n",
       "\n",
       "    .dataframe thead th {\n",
       "        text-align: right;\n",
       "    }\n",
       "</style>\n",
       "<table border=\"1\" class=\"dataframe\">\n",
       "  <thead>\n",
       "    <tr style=\"text-align: right;\">\n",
       "      <th></th>\n",
       "      <th>salad</th>\n",
       "      <th>chicken</th>\n",
       "      <th>sandwich</th>\n",
       "      <th>egg</th>\n",
       "      <th>fish</th>\n",
       "      <th>beef</th>\n",
       "      <th>tuna</th>\n",
       "      <th>oyster</th>\n",
       "      <th>lettuce</th>\n",
       "      <th>egg</th>\n",
       "      <th>ice</th>\n",
       "      <th>milk</th>\n",
       "      <th>rice</th>\n",
       "      <th>fruit</th>\n",
       "      <th>ahi</th>\n",
       "      <th>sub</th>\n",
       "      <th>cake</th>\n",
       "      <th>pork</th>\n",
       "    </tr>\n",
       "    <tr>\n",
       "      <th>species</th>\n",
       "      <th></th>\n",
       "      <th></th>\n",
       "      <th></th>\n",
       "      <th></th>\n",
       "      <th></th>\n",
       "      <th></th>\n",
       "      <th></th>\n",
       "      <th></th>\n",
       "      <th></th>\n",
       "      <th></th>\n",
       "      <th></th>\n",
       "      <th></th>\n",
       "      <th></th>\n",
       "      <th></th>\n",
       "      <th></th>\n",
       "      <th></th>\n",
       "      <th></th>\n",
       "      <th></th>\n",
       "    </tr>\n",
       "  </thead>\n",
       "  <tbody>\n",
       "    <tr>\n",
       "      <td>norovirus</td>\n",
       "      <td>0</td>\n",
       "      <td>0</td>\n",
       "      <td>0</td>\n",
       "      <td>0</td>\n",
       "      <td>0</td>\n",
       "      <td>0</td>\n",
       "      <td>0</td>\n",
       "      <td>0</td>\n",
       "      <td>0</td>\n",
       "      <td>0</td>\n",
       "      <td>0</td>\n",
       "      <td>0</td>\n",
       "      <td>0</td>\n",
       "      <td>0</td>\n",
       "      <td>0</td>\n",
       "      <td>0</td>\n",
       "      <td>0</td>\n",
       "      <td>0</td>\n",
       "    </tr>\n",
       "    <tr>\n",
       "      <td>salmonella</td>\n",
       "      <td>0</td>\n",
       "      <td>0</td>\n",
       "      <td>0</td>\n",
       "      <td>0</td>\n",
       "      <td>0</td>\n",
       "      <td>0</td>\n",
       "      <td>0</td>\n",
       "      <td>0</td>\n",
       "      <td>0</td>\n",
       "      <td>0</td>\n",
       "      <td>0</td>\n",
       "      <td>0</td>\n",
       "      <td>0</td>\n",
       "      <td>0</td>\n",
       "      <td>0</td>\n",
       "      <td>0</td>\n",
       "      <td>0</td>\n",
       "      <td>0</td>\n",
       "    </tr>\n",
       "  </tbody>\n",
       "</table>\n",
       "</div>"
      ],
      "text/plain": [
       "            salad  chicken  sandwich  egg  fish  beef  tuna  oyster  lettuce  \\\n",
       "species                                                                        \n",
       "norovirus       0        0         0    0     0     0     0       0        0   \n",
       "salmonella      0        0         0    0     0     0     0       0        0   \n",
       "\n",
       "            egg  ice  milk  rice  fruit  ahi  sub  cake  pork  \n",
       "species                                                        \n",
       "norovirus     0    0     0     0      0    0    0     0     0  \n",
       "salmonella    0    0     0     0      0    0    0     0     0  "
      ]
     },
     "execution_count": 64,
     "metadata": {},
     "output_type": "execute_result"
    }
   ],
   "source": [
    "df_structure.head(2)"
   ]
  },
  {
   "cell_type": "code",
   "execution_count": null,
   "metadata": {},
   "outputs": [],
   "source": []
  },
  {
   "cell_type": "code",
   "execution_count": null,
   "metadata": {},
   "outputs": [],
   "source": [
    "# e.g. P(norovirus | salad)"
   ]
  },
  {
   "cell_type": "code",
   "execution_count": 68,
   "metadata": {},
   "outputs": [],
   "source": [
    "df_disease_given_food = df / all_diseases"
   ]
  },
  {
   "cell_type": "code",
   "execution_count": 70,
   "metadata": {},
   "outputs": [
    {
     "data": {
      "text/html": [
       "<div>\n",
       "<style scoped>\n",
       "    .dataframe tbody tr th:only-of-type {\n",
       "        vertical-align: middle;\n",
       "    }\n",
       "\n",
       "    .dataframe tbody tr th {\n",
       "        vertical-align: top;\n",
       "    }\n",
       "\n",
       "    .dataframe thead th {\n",
       "        text-align: right;\n",
       "    }\n",
       "</style>\n",
       "<table border=\"1\" class=\"dataframe\">\n",
       "  <thead>\n",
       "    <tr style=\"text-align: right;\">\n",
       "      <th></th>\n",
       "      <th>salad</th>\n",
       "      <th>chicken</th>\n",
       "      <th>sandwich</th>\n",
       "      <th>egg</th>\n",
       "      <th>fish</th>\n",
       "      <th>beef</th>\n",
       "      <th>tuna</th>\n",
       "      <th>oyster</th>\n",
       "      <th>lettuce</th>\n",
       "      <th>egg</th>\n",
       "      <th>ice</th>\n",
       "      <th>milk</th>\n",
       "      <th>rice</th>\n",
       "      <th>fruit</th>\n",
       "      <th>ahi</th>\n",
       "      <th>sub</th>\n",
       "      <th>cake</th>\n",
       "      <th>pork</th>\n",
       "    </tr>\n",
       "    <tr>\n",
       "      <th>species</th>\n",
       "      <th></th>\n",
       "      <th></th>\n",
       "      <th></th>\n",
       "      <th></th>\n",
       "      <th></th>\n",
       "      <th></th>\n",
       "      <th></th>\n",
       "      <th></th>\n",
       "      <th></th>\n",
       "      <th></th>\n",
       "      <th></th>\n",
       "      <th></th>\n",
       "      <th></th>\n",
       "      <th></th>\n",
       "      <th></th>\n",
       "      <th></th>\n",
       "      <th></th>\n",
       "      <th></th>\n",
       "    </tr>\n",
       "  </thead>\n",
       "  <tbody>\n",
       "    <tr>\n",
       "      <td>norovirus</td>\n",
       "      <td>0.661501</td>\n",
       "      <td>0.172080</td>\n",
       "      <td>0.600928</td>\n",
       "      <td>0.136646</td>\n",
       "      <td>0.032692</td>\n",
       "      <td>0.115789</td>\n",
       "      <td>0.092437</td>\n",
       "      <td>0.435115</td>\n",
       "      <td>0.593103</td>\n",
       "      <td>0.136646</td>\n",
       "      <td>0.319192</td>\n",
       "      <td>0.015528</td>\n",
       "      <td>0.095785</td>\n",
       "      <td>0.791946</td>\n",
       "      <td>0.000</td>\n",
       "      <td>0.872</td>\n",
       "      <td>0.610169</td>\n",
       "      <td>0.079470</td>\n",
       "    </tr>\n",
       "    <tr>\n",
       "      <td>salmonella</td>\n",
       "      <td>0.099511</td>\n",
       "      <td>0.299715</td>\n",
       "      <td>0.116009</td>\n",
       "      <td>0.751553</td>\n",
       "      <td>0.040385</td>\n",
       "      <td>0.131579</td>\n",
       "      <td>0.046218</td>\n",
       "      <td>0.025445</td>\n",
       "      <td>0.065517</td>\n",
       "      <td>0.751553</td>\n",
       "      <td>0.153535</td>\n",
       "      <td>0.052795</td>\n",
       "      <td>0.103448</td>\n",
       "      <td>0.087248</td>\n",
       "      <td>0.024</td>\n",
       "      <td>0.032</td>\n",
       "      <td>0.209040</td>\n",
       "      <td>0.354305</td>\n",
       "    </tr>\n",
       "  </tbody>\n",
       "</table>\n",
       "</div>"
      ],
      "text/plain": [
       "               salad   chicken  sandwich       egg      fish      beef  \\\n",
       "species                                                                  \n",
       "norovirus   0.661501  0.172080  0.600928  0.136646  0.032692  0.115789   \n",
       "salmonella  0.099511  0.299715  0.116009  0.751553  0.040385  0.131579   \n",
       "\n",
       "                tuna    oyster   lettuce       egg       ice      milk  \\\n",
       "species                                                                  \n",
       "norovirus   0.092437  0.435115  0.593103  0.136646  0.319192  0.015528   \n",
       "salmonella  0.046218  0.025445  0.065517  0.751553  0.153535  0.052795   \n",
       "\n",
       "                rice     fruit    ahi    sub      cake      pork  \n",
       "species                                                           \n",
       "norovirus   0.095785  0.791946  0.000  0.872  0.610169  0.079470  \n",
       "salmonella  0.103448  0.087248  0.024  0.032  0.209040  0.354305  "
      ]
     },
     "execution_count": 70,
     "metadata": {},
     "output_type": "execute_result"
    }
   ],
   "source": [
    "df_disease_given_food.head(2)"
   ]
  },
  {
   "cell_type": "code",
   "execution_count": null,
   "metadata": {},
   "outputs": [],
   "source": []
  },
  {
   "cell_type": "code",
   "execution_count": 82,
   "metadata": {},
   "outputs": [],
   "source": [
    "# e.g. P(salad), AKA P(salad | outbreak)"
   ]
  },
  {
   "cell_type": "code",
   "execution_count": 81,
   "metadata": {},
   "outputs": [],
   "source": [
    "df_food_given_outbreak = pd.DataFrame(columns = df.columns)"
   ]
  },
  {
   "cell_type": "code",
   "execution_count": 85,
   "metadata": {},
   "outputs": [],
   "source": [
    "df_food_given_outbreak = all_diseases / all_diseases.sum()"
   ]
  },
  {
   "cell_type": "code",
   "execution_count": 88,
   "metadata": {},
   "outputs": [
    {
     "data": {
      "text/plain": [
       "salad      0.149276\n",
       "chicken    0.213686\n",
       "dtype: float64"
      ]
     },
     "execution_count": 88,
     "metadata": {},
     "output_type": "execute_result"
    }
   ],
   "source": [
    "df_food_given_outbreak.head(2)"
   ]
  },
  {
   "cell_type": "code",
   "execution_count": null,
   "metadata": {},
   "outputs": [],
   "source": []
  },
  {
   "cell_type": "code",
   "execution_count": 90,
   "metadata": {},
   "outputs": [],
   "source": [
    "# Bayes calculation, eg: P(salad | norovirus) = P(norovirus | salad) * P(salad) /\n",
    "#                                                summation(P(disease | food) * P(food))"
   ]
  },
  {
   "cell_type": "code",
   "execution_count": null,
   "metadata": {},
   "outputs": [],
   "source": [
    "df_food_given_disease = "
   ]
  },
  {
   "cell_type": "code",
   "execution_count": null,
   "metadata": {},
   "outputs": [],
   "source": []
  }
 ],
 "metadata": {
  "kernelspec": {
   "display_name": "Python 3",
   "language": "python",
   "name": "python3"
  },
  "language_info": {
   "codemirror_mode": {
    "name": "ipython",
    "version": 3
   },
   "file_extension": ".py",
   "mimetype": "text/x-python",
   "name": "python",
   "nbconvert_exporter": "python",
   "pygments_lexer": "ipython3",
   "version": "3.7.4"
  }
 },
 "nbformat": 4,
 "nbformat_minor": 2
}
